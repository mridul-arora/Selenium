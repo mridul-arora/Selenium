{
 "cells": [
  {
   "cell_type": "code",
   "execution_count": 1,
   "metadata": {},
   "outputs": [],
   "source": [
    "from selenium import webdriver\n",
    "from selenium.webdriver.common.keys import Keys\n",
    "import time\n",
    "import pandas as pd\n",
    "from selenium.webdriver.common.action_chains import ActionChains"
   ]
  },
  {
   "cell_type": "code",
   "execution_count": 2,
   "metadata": {},
   "outputs": [
    {
     "name": "stdout",
     "output_type": "stream",
     "text": [
      "Enter the name of group you want to delete all contacts of: Somethin\n"
     ]
    }
   ],
   "source": [
    "groupname = input('Enter the name of group you want to delete all contacts of: ')"
   ]
  },
  {
   "cell_type": "code",
   "execution_count": null,
   "metadata": {},
   "outputs": [],
   "source": [
    "action = ActionChains(driver)"
   ]
  },
  {
   "cell_type": "code",
   "execution_count": null,
   "metadata": {},
   "outputs": [],
   "source": [
    "firstLevelMenu = driver.find_element_by_id(\"menu\")\n",
    "action.move_to_element(firstLevelMenu).perform()\n",
    "\n",
    "secondLevelMenu = driver.find_element_by_xpath(\"//a[contains(text(),'menu1')]\")\n",
    "action.move_to_element(secondLevelMenu).perform()\n",
    "\n",
    "secondLevelMenu.click()"
   ]
  },
  {
   "cell_type": "code",
   "execution_count": 3,
   "metadata": {},
   "outputs": [],
   "source": [
    "driver = webdriver.Chrome(r'C:\\Users\\arora\\Documents\\Selenium\\Whatsapp Automation\\chromedriver')\n",
    "driver.get('https://web.whatsapp.com/')\n",
    "\n",
    "#Depends on internet speed - time it takes to load the webpage\n",
    "#time.sleep(5) #For 5 seconds"
   ]
  },
  {
   "cell_type": "code",
   "execution_count": 16,
   "metadata": {},
   "outputs": [
    {
     "ename": "TypeError",
     "evalue": "'WebElement' object is not subscriptable",
     "output_type": "error",
     "traceback": [
      "\u001b[1;31m-------------\u001b[0m",
      "\u001b[1;31mTypeError\u001b[0mTraceback (most recent call last)",
      "\u001b[1;32m<ipython-input-16-8bbe0dd4d832>\u001b[0m in \u001b[0;36m<module>\u001b[1;34m\u001b[0m\n\u001b[0;32m      8\u001b[0m \u001b[1;31m#DOWN ARROW PE CLICK\u001b[0m\u001b[1;33m\u001b[0m\u001b[1;33m\u001b[0m\u001b[1;33m\u001b[0m\u001b[0m\n\u001b[0;32m      9\u001b[0m \u001b[1;31m#hover karo is element pe\u001b[0m\u001b[1;33m\u001b[0m\u001b[1;33m\u001b[0m\u001b[1;33m\u001b[0m\u001b[0m\n\u001b[1;32m---> 10\u001b[1;33m \u001b[0mdriver\u001b[0m\u001b[1;33m.\u001b[0m\u001b[0mfind_element_by_class_name\u001b[0m\u001b[1;33m(\u001b[0m\u001b[1;34m'_0LqQ'\u001b[0m\u001b[1;33m)\u001b[0m\u001b[1;33m[\u001b[0m\u001b[1;36m1\u001b[0m\u001b[1;33m]\u001b[0m\u001b[1;33m.\u001b[0m\u001b[0mclick\u001b[0m\u001b[1;33m(\u001b[0m\u001b[1;33m)\u001b[0m\u001b[1;33m\u001b[0m\u001b[1;33m\u001b[0m\u001b[0m\n\u001b[0m\u001b[0;32m     11\u001b[0m \u001b[1;31m#click karo iss element pe\u001b[0m\u001b[1;33m\u001b[0m\u001b[1;33m\u001b[0m\u001b[1;33m\u001b[0m\u001b[0m\n\u001b[0;32m     12\u001b[0m \u001b[0mdriver\u001b[0m\u001b[1;33m.\u001b[0m\u001b[0mfind_element_by_class_name\u001b[0m\u001b[1;33m(\u001b[0m\u001b[1;34m'_1mGV6'\u001b[0m\u001b[1;33m)\u001b[0m\u001b[1;33m.\u001b[0m\u001b[0mclick\u001b[0m\u001b[1;33m(\u001b[0m\u001b[1;33m)\u001b[0m\u001b[1;33m\u001b[0m\u001b[1;33m\u001b[0m\u001b[0m\n",
      "\u001b[1;31mTypeError\u001b[0m: 'WebElement' object is not subscriptable"
     ]
    }
   ],
   "source": [
    "#This is used to search the names or groups \n",
    "user = driver.find_element_by_xpath('//span[@title = \"{}\"]'.format(groupname))\n",
    "user.click()\n",
    "\n",
    "#CLICK on the header named i.e. <<group-name>>\n",
    "driver.find_element_by_class_name('_3V5x5').click()\n",
    "\n",
    "#DOWN ARROW PE CLICK\n",
    "#hover karo is element pe \n",
    "driver.find_element_by_class_name('_0LqQ').click()\n",
    "#click karo iss element pe\n",
    "driver.find_element_by_class_name('_1mGV6').click()\n",
    "\n",
    "\n",
    "#Its not able to locate this because down-arrow is still being left clicked\n",
    "#Click on remove through the drop down\n",
    "#driver.find_element_by_class_name('_3cfBY')[2].click()\n",
    "\n",
    "#Click on remove through the pop-up\n",
    "#driver.find_element_by_class_name('_2eK7W').click()\n",
    "\n",
    "\n",
    "#the 3 vertical dots used for information \n",
    "#driver.find_elements_by_class_name('_3j8Pd')[2].click()"
   ]
  },
  {
   "cell_type": "code",
   "execution_count": null,
   "metadata": {},
   "outputs": [],
   "source": []
  },
  {
   "cell_type": "code",
   "execution_count": null,
   "metadata": {},
   "outputs": [],
   "source": []
  }
 ],
 "metadata": {
  "kernelspec": {
   "display_name": "Python 3",
   "language": "python",
   "name": "python3"
  },
  "language_info": {
   "codemirror_mode": {
    "name": "ipython",
    "version": 3
   },
   "file_extension": ".py",
   "mimetype": "text/x-python",
   "name": "python",
   "nbconvert_exporter": "python",
   "pygments_lexer": "ipython3",
   "version": "3.7.4"
  }
 },
 "nbformat": 4,
 "nbformat_minor": 2
}
