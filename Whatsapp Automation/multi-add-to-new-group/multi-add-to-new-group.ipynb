{
 "cells": [
  {
   "cell_type": "code",
   "execution_count": 2,
   "metadata": {
    "scrolled": true
   },
   "outputs": [],
   "source": [
    "from selenium import webdriver\n",
    "from selenium.webdriver.common.keys import Keys\n",
    "import time\n",
    "import pandas as pd"
   ]
  },
  {
   "cell_type": "code",
   "execution_count": 7,
   "metadata": {},
   "outputs": [],
   "source": [
    "contacts = pd.read_csv('contacts.csv', usecols = [0])\n",
    "contacts = contacts.set_index('Name').T\n",
    "#print([name for name in contacts])"
   ]
  },
  {
   "cell_type": "code",
   "execution_count": null,
   "metadata": {},
   "outputs": [],
   "source": [
    "groupname = input('Enter the name of group you want to create : ')"
   ]
  },
  {
   "cell_type": "code",
   "execution_count": 9,
   "metadata": {},
   "outputs": [],
   "source": [
    "driver = webdriver.Chrome(r'C:\\Users\\arora\\Documents\\Selenium\\Whatsapp Automation\\chromedriver')\n",
    "driver.get('https://web.whatsapp.com/')\n",
    "\n",
    "#Depends on internet speed - time it takes to load the webpage\n",
    "#time.sleep(5) #For 5 seconds"
   ]
  },
  {
   "cell_type": "code",
   "execution_count": 6,
   "metadata": {},
   "outputs": [],
   "source": [
    "#This is used to search the names or groups \n",
    "#user = driver.find_element_by_xpath('//span[@title = \"{}\"]'.format(name))\n",
    "#user.click()\n",
    "\n",
    "#the 3 vertical dots used for information \n",
    "driver.find_elements_by_class_name('_3j8Pd')[2].click()\n",
    "\n",
    "#CLICK on New group\n",
    "driver.find_element_by_class_name('_3cfBY').click()\n",
    "\n",
    "#CLICK ON the textbox where we need to add names\n",
    "driver.find_element_by_class_name('_44uDJ').click()\n",
    "\n",
    "#Type contact name and press enter in-a-loop\n",
    "for names in contacts:\n",
    "    #print(names)\n",
    "    #Type Name\n",
    "    driver.find_element_by_class_name('_44uDJ').send_keys(names)\n",
    "    #Press Enter\n",
    "    driver.find_element_by_class_name(\"_44uDJ\").send_keys(Keys.RETURN)\n",
    "    #Necessary backspace \n",
    "    driver.find_element_by_class_name(\"_44uDJ\").clear()\n",
    "\n",
    "#CLICK to ADD all the CONTACTS to the GROUP    \n",
    "driver.find_element_by_class_name('_1g8sv').click()\n",
    "\n",
    "#Type NEW GROUP Name\n",
    "driver.find_element_by_class_name('_3u328').send_keys(groupname)\n",
    "\n",
    "#Press on \"Create Group\" Button\n",
    "driver.find_element_by_class_name('_1g8sv').click()"
   ]
  },
  {
   "cell_type": "code",
   "execution_count": null,
   "metadata": {},
   "outputs": [],
   "source": [
    "#AGAR ZZZZ5 naa mille toh usse skip karke aage badho "
   ]
  },
  {
   "cell_type": "code",
   "execution_count": null,
   "metadata": {},
   "outputs": [],
   "source": []
  }
 ],
 "metadata": {
  "kernelspec": {
   "display_name": "Python 3",
   "language": "python",
   "name": "python3"
  },
  "language_info": {
   "codemirror_mode": {
    "name": "ipython",
    "version": 3
   },
   "file_extension": ".py",
   "mimetype": "text/x-python",
   "name": "python",
   "nbconvert_exporter": "python",
   "pygments_lexer": "ipython3",
   "version": "3.7.4"
  }
 },
 "nbformat": 4,
 "nbformat_minor": 2
}
