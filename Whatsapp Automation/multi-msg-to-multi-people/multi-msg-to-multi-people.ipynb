{
 "cells": [
  {
   "cell_type": "code",
   "execution_count": null,
   "metadata": {},
   "outputs": [],
   "source": [
    "from selenium import webdriver\n",
    "\n",
    "driver = webdriver.Chrome(r'C:\\Users\\arora\\Documents\\Jupyter-Notebook\\chromedriver')\n",
    "driver.get('https://web.whatsapp.com/')\n",
    "\n",
    "#name = input('Enter the name of group : ')\n",
    "#msg = input('Enter your message : ')\n",
    "#count = int(input('Enter the count : '))\n",
    "\n",
    "input('Enter anything after scanning QR code')\n",
    "\n",
    "#This is used to search the names or groups \n",
    "#user = driver.find_element_by_xpath('//span[@title = \"{}\"]'.format(name))\n",
    "#user.click()\n",
    "\n",
    "#the 3 vertical dots used for information \n",
    "driver.find_element_by_class_name('_3j8Pd').click()\n",
    "\n",
    "\n",
    "msg_box = driver.find_element_by_class_name('_3u328')\n",
    "\n",
    "for i in range(count):\n",
    "    msg_box.send_keys(msg)\n",
    "    button = driver.find_element_by_class_name('_3M-N-')\n",
    "    button.click()"
   ]
  },
  {
   "cell_type": "code",
   "execution_count": null,
   "metadata": {},
   "outputs": [],
   "source": []
  }
 ],
 "metadata": {
  "kernelspec": {
   "display_name": "Python 3",
   "language": "python",
   "name": "python3"
  },
  "language_info": {
   "codemirror_mode": {
    "name": "ipython",
    "version": 3
   },
   "file_extension": ".py",
   "mimetype": "text/x-python",
   "name": "python",
   "nbconvert_exporter": "python",
   "pygments_lexer": "ipython3",
   "version": "3.7.4"
  }
 },
 "nbformat": 4,
 "nbformat_minor": 2
}
